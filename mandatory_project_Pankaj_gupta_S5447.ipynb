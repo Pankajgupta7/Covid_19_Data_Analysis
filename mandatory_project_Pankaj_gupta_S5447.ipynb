{
  "nbformat": 4,
  "nbformat_minor": 0,
  "metadata": {
    "colab": {
      "provenance": []
    },
    "kernelspec": {
      "name": "python3",
      "display_name": "Python 3"
    },
    "language_info": {
      "name": "python"
    }
  },
  "cells": [
    {
      "cell_type": "code",
      "source": [
        "# 1: You are working in a bank, and you have been given two lists of the employees who worked in 2021.\n",
        "#  Employees’ names in list 1 are Ramesh, Suresh, Mahesh, Ali, Jacob, and Saritha. List 2 contains the names of Ali, Mukesh, Mahesh, Jacob, Sai, and Sarita.\n",
        "#  Please write a program that helps to identify people who are common in both lists. Please do not use any in-built function.\n",
        "list1 = [\"Ramesh\", \"Suresh\", \"Mahesh\", \"Ali\", \"Jacob\", \"Saritha\"]\n",
        "list2 = [\"Ali\", \"Mukesh\", \"Mahesh\", \"Jacob\", \"Sai\", \"Sarita\"]\n",
        "common_names = []\n",
        "\n",
        "for name in list1:\n",
        "    if name in list2 and name not in common_names:\n",
        "        common_names.append(name)\n",
        "\n",
        "print(f\"Common names in both lists:{common_names}\" )\n"
      ],
      "metadata": {
        "colab": {
          "base_uri": "https://localhost:8080/"
        },
        "id": "mSXXNuDTbEZs",
        "outputId": "700d4bc4-e966-4fa8-d11e-ae8cc381d62e"
      },
      "execution_count": null,
      "outputs": [
        {
          "output_type": "stream",
          "name": "stdout",
          "text": [
            "Common names in both lists:['Mahesh', 'Ali', 'Jacob']\n"
          ]
        }
      ]
    },
    {
      "cell_type": "code",
      "source": [
        "\"\"\"\n",
        "Q2: While entering data, someone entered a few names as a common string “Ramesh Suresh Mohit”.\n",
        "Please write a program which separates all the names and converts them into a list. Once converted into a list, please write a program that adds their age.\n",
        "\n",
        "Ramesh:  25\n",
        "\n",
        "Suresh: 22\n",
        "\n",
        "Mohit: 26\n",
        "\n",
        "\"\"\"\n",
        "\n",
        "\n",
        "\n",
        "names_and_ages = \"Ramesh: 25, Suresh: 22, Mohit: 26\"\n",
        "\n",
        "# we Split the string into a list of name-age pairs\n",
        "name_age_pairs = names_and_ages.split(\", \")\n",
        "\n",
        "#then we  Create an empty list to store the names\n",
        "names = []\n",
        "\n",
        "# then we Create an empty dictionary to store the name-age pairs\n",
        "name_age_dict = {}\n",
        "\n",
        "# Iterate over the list of name-age pairs\n",
        "for pair in name_age_pairs:\n",
        "    # Split the pair into name and age\n",
        "    name, age = pair.split(\":\")\n",
        "\n",
        "    # Addig the name into the names list\n",
        "    names.append(name)\n",
        "\n",
        "    # Converting the age into an integer and adding it to the name-age dictionary\n",
        "    name_age_dict[name] = int(age)\n",
        "\n",
        "print(\"Names:\", names)\n",
        "print(\"Name-Age Dictionary:\", name_age_dict)\n",
        "\n"
      ],
      "metadata": {
        "colab": {
          "base_uri": "https://localhost:8080/"
        },
        "id": "AcubPaoOdScr",
        "outputId": "f3d8770a-6669-4df0-aed2-6923ed612199"
      },
      "execution_count": null,
      "outputs": [
        {
          "output_type": "stream",
          "name": "stdout",
          "text": [
            "Names: ['Ramesh', 'Suresh', 'Mohit']\n",
            "Name-Age Dictionary: {'Ramesh': 25, 'Suresh': 22, 'Mohit': 26}\n"
          ]
        }
      ]
    },
    {
      "cell_type": "code",
      "source": [
        "# Q3: You are working in a medical store. A patient came to your medical store and asked to buy 2 strips of paracetamol, 3 strips of azithromycin, and 5 strips of Vitamin C. One strip of paracetamol costs Rs 35, one strip of azithromycin costs Rs 49, and one strip of vitamin c costs Rs. 33. Patient gave you Rs 2000.\n",
        "#  Please tell us what is the total cost of each medicine, the total cost of all medicine, and how much money you refunded to the patient.\n",
        "\n",
        "\n",
        "# Cost of each medicine\n",
        "#paracetamol: 35\n",
        "# azithromycin:49\n",
        "# vitamin_c:33\n",
        "paracetamol_cost = 2 * 35\n",
        "azithromycin_cost = 3 * 49\n",
        "vitamin_c_cost = 5 * 33\n",
        "\n",
        "# Total cost of all medicine\n",
        "total_cost = paracetamol_cost + azithromycin_cost + vitamin_c_cost\n",
        "\n",
        "# Amount refunded to the patient\n",
        "money_refunded = 2000 - total_cost\n",
        "\n",
        "# Print the results\n",
        "print(\"Total cost of paracetamol:\", paracetamol_cost)\n",
        "print(\"Total cost of azithromycin:\", azithromycin_cost)\n",
        "print(\"Total cost of vitamin C:\", vitamin_c_cost)\n",
        "print(\"Total cost of all medicine:\", total_cost)\n",
        "print(\"Money refunded to the patient:\", money_refunded)\n"
      ],
      "metadata": {
        "colab": {
          "base_uri": "https://localhost:8080/"
        },
        "id": "hggUH3nLph7G",
        "outputId": "2e172f71-4350-4bb6-cd33-fe375a74d940"
      },
      "execution_count": null,
      "outputs": [
        {
          "output_type": "stream",
          "name": "stdout",
          "text": [
            "Total cost of paracetamol: 70\n",
            "Total cost of azithromycin: 147\n",
            "Total cost of vitamin C: 165\n",
            "Total cost of all medicine: 382\n",
            "Money refunded to the patient: 1618\n"
          ]
        }
      ]
    },
    {
      "cell_type": "code",
      "source": [
        "\"\"\"\n",
        "Q4: Accept a sentence as input and find the number of vowels in it. Assume that the sentence has no punctuation marks. For example,\n",
        " I am learning python contains 6 vowels. This function should be applicable for all other different sentences.\n",
        "\"\"\"\n",
        "str1 = \"accept a sentence\"\n",
        "length = len(str1)\n",
        "i = 0\n",
        "count = 0\n",
        "while(i<length):\n",
        "  if((str1[i]==\"a\") or (str1[i]==\"e\") or (str1[i]==\"i\") or (str1[i]==\"o\") or (str1[i]==\"u\")):\n",
        "    count = count + 1\n",
        "  i = i + 1\n",
        "print(f\"Number of vowels: {count}\")\n"
      ],
      "metadata": {
        "id": "EZSayv49fxzg",
        "colab": {
          "base_uri": "https://localhost:8080/"
        },
        "outputId": "574d18e5-6626-4aef-cf8a-3078dac4c8f5"
      },
      "execution_count": null,
      "outputs": [
        {
          "output_type": "stream",
          "name": "stdout",
          "text": [
            "Number of vowels: 6\n"
          ]
        }
      ]
    },
    {
      "cell_type": "code",
      "source": [
        "# Q5: You have been appointed by the election commission to create a website. Your first task is to work on a program which tells candidates if they are eligible for voting or not. If they are eligible, your output should be ‘Congrats! You are eligible’; otherwise, it should tell that you have to return after X number of years. The eligibility criteria for voting is 18 years.\n",
        "# For example, If someone is 18 or above, your output should be ‘Congrats! You are eligible’. If someone’s age is 15 years, it should print output as ‘return after 3 years’.\n",
        "\n",
        "\n",
        "def check_eligibility(age):\n",
        "    if age >= 18:\n",
        "        print(\"Congrats! You are eligible\")\n",
        "    else:\n",
        "        years_to_wait = 18 - age\n",
        "        print(\"You have to return after\", years_to_wait, \"years\")\n",
        "\n",
        "# Get the candidate's age\n",
        "candidate_age = int(input(\"Enter your age: \"))\n",
        "\n",
        "# Check the candidate's eligibility\n",
        "check_eligibility(candidate_age)\n"
      ],
      "metadata": {
        "colab": {
          "base_uri": "https://localhost:8080/"
        },
        "id": "cWfm6xvQnS-6",
        "outputId": "8c373474-b8d1-4eee-d899-8f0451a4c149"
      },
      "execution_count": 5,
      "outputs": [
        {
          "output_type": "stream",
          "name": "stdout",
          "text": [
            "Enter your age: 15\n",
            "You have to return after 3 years\n"
          ]
        }
      ]
    },
    {
      "cell_type": "code",
      "execution_count": null,
      "metadata": {
        "id": "4izz_VwXarb3"
      },
      "outputs": [],
      "source": [
        "# Q6: Given a list of integers, find the cumulative sum of the elements of the list and store them in another list.\n",
        "# A = [1, 2, 3, 4, 5]\n",
        "# Output:\n",
        "# [1, 3, 6, 10, 15]\n",
        "# A = [1, 2, 3, 4, 5]\n",
        "cumulative_sum = []\n",
        "cumulative_sum.append(A[0])\n",
        "for i in range(1, len(A)):\n",
        "    cumulative_sum.append(cumulative_sum[i - 1] + A[i]) #we add 1st element of the list and previous element\n",
        "print(cumulative_sum)\n"
      ]
    },
    {
      "cell_type": "code",
      "source": [
        "\"\"\" Q7\n",
        "WAP to encode a message entered by user as per below conditions:\n",
        "\n",
        "\n",
        "for every word in the sentence,\n",
        "\n",
        "1. If the word starts with a vowel, encode it as the first and last letter of the word.\n",
        "\n",
        "2. If the word starts with a consonant, remove all vowels from it.\n",
        "\n",
        "Ensure the case insensitive comparisons/checks are performed.\n",
        "\n",
        "Please enter your text:The quick brown fox used to sleep inside this box\n",
        "\n",
        "Encoded Msg: Th qck brwn fx ud t slp ie ths bx\n",
        "\"\"\"\n",
        "def encode_message(message):\n",
        "    encoded_message = \"\"\n",
        "    vowels = set('aeiou')\n",
        "    for word in message.lower().split():\n",
        "        if word[0] in vowels:\n",
        "            encoded_word = word[0] + word[-1]\n",
        "        else:\n",
        "            encoded_word = ''# in this for loop we return only consonent and remove vowels\n",
        "            for char in word:\n",
        "                if char not in vowels:\n",
        "                    encoded_word += char\n",
        "        encoded_message += encoded_word + \" \"\n",
        "    return encoded_message.strip()#strip function is used to remove space from the deleted vowel\n",
        "\n",
        "# The quick brown fox used to sleep inside this box input\n",
        "user_message = input(\"Please enter your text: \")\n",
        "# we call the above function and add to the encoded massage\n",
        "encoded_message = encode_message(user_message)\n",
        "print(\"Encoded Message:\", encoded_message)\n"
      ],
      "metadata": {
        "colab": {
          "base_uri": "https://localhost:8080/"
        },
        "id": "SUAF7Sfnsf-g",
        "outputId": "8f619380-2a6f-4932-d7d3-a6c5e39464d7"
      },
      "execution_count": null,
      "outputs": [
        {
          "output_type": "stream",
          "name": "stdout",
          "text": [
            "Please enter your text: The quick brown fox used to sleep inside this box\n",
            "Encoded Message: th qck brwn fx ud t slp ie ths bx\n"
          ]
        }
      ]
    },
    {
      "cell_type": "code",
      "source": [
        "# Q8:\n",
        "\n",
        "# Write a program to implement run length encoding of a string\n",
        "\n",
        "\n",
        "\n",
        "# RLE:Consecutive repetition of a character has to be replaced with the count of occurrences and the character.\n",
        "\n",
        "\n",
        "\n",
        "# Enter your string :aabbbccdddae\n",
        "\n",
        "# Encoded: 2a3b2c3d1a1e\n",
        "\n",
        "\n",
        "def run_len_enc(text):\n",
        "    count = 1\n",
        "    result = ''\n",
        "    for i in range(1, len(text)):\n",
        "        if text[i] == text[i - 1]:\n",
        "            count += 1\n",
        "        else:\n",
        "            result += str(count) + text[i - 1]\n",
        "            count = 1\n",
        "    result += str(count) + text[-1] # in this text[-1] refers to last charater of the string it is used to get the character occurence  and append it to the result because we have used len(text) in loop\n",
        "    return result\n",
        "\n",
        "text = \"aabbbccdddae\"\n",
        "encoded_text = run_len_enc(text)\n",
        "print(\"Encoded Text:\", encoded_text)\n"
      ],
      "metadata": {
        "colab": {
          "base_uri": "https://localhost:8080/"
        },
        "id": "zE5RQ6m_aARv",
        "outputId": "562416f2-1831-4fbe-f308-f22a3782e054"
      },
      "execution_count": 3,
      "outputs": [
        {
          "output_type": "stream",
          "name": "stdout",
          "text": [
            "Encoded Text: 2a3b2c3d1a1e\n"
          ]
        }
      ]
    },
    {
      "cell_type": "code",
      "source": [],
      "metadata": {
        "id": "eFrTdIUAaBDN"
      },
      "execution_count": null,
      "outputs": []
    }
  ]
}